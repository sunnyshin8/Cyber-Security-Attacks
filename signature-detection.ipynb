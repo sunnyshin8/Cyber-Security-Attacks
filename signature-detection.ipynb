{
 "cells": [
  {
   "cell_type": "code",
   "execution_count": null,
   "metadata": {},
   "outputs": [],
   "source": [
    "#signature-detection"
   ]
  },
  {
   "cell_type": "code",
   "execution_count": null,
   "metadata": {},
   "outputs": [],
   "source": [
    "#importing libraries\n",
    "import cv2\n",
    "import numpy as np\n",
    "import matplotlib.pyplot as plt\n",
    "import os\n",
    "import sys\n",
    "import math"
   ]
  },
  {
   "cell_type": "code",
   "execution_count": null,
   "metadata": {},
   "outputs": [],
   "source": [
    "#importing api\n",
    "from api import *\n",
    "#fetching the image\n",
    "#img = cv2.imread('test.jpg')\n"
   ]
  },
  {
   "cell_type": "code",
   "execution_count": null,
   "metadata": {},
   "outputs": [],
   "source": [
    "#checking if the image is loaded\n",
    "#if img is None:\n",
    "#    sys.exit(\"Could not read the image.\")\n"
   ]
  },
  {
   "cell_type": "code",
   "execution_count": null,
   "metadata": {},
   "outputs": [],
   "source": [
    "#comment\n",
    "#processing the data\n",
    "#img = cv2.cvtColor(img, cv2.COLOR_BGR2GRAY)\n",
    "#img = cv2.GaussianBlur(img,(5,5),0)\n"
   ]
  },
  {
   "cell_type": "code",
   "execution_count": 1,
   "metadata": {},
   "outputs": [],
   "source": [
    "#load data\n",
    "csvfile = open('cybersecurity_attacks_cleaned.csv','r')\n"
   ]
  },
  {
   "cell_type": "code",
   "execution_count": 3,
   "metadata": {},
   "outputs": [
    {
     "data": {
      "text/html": [
       "<div>\n",
       "<style scoped>\n",
       "    .dataframe tbody tr th:only-of-type {\n",
       "        vertical-align: middle;\n",
       "    }\n",
       "\n",
       "    .dataframe tbody tr th {\n",
       "        vertical-align: top;\n",
       "    }\n",
       "\n",
       "    .dataframe thead th {\n",
       "        text-align: right;\n",
       "    }\n",
       "</style>\n",
       "<table border=\"1\" class=\"dataframe\">\n",
       "  <thead>\n",
       "    <tr style=\"text-align: right;\">\n",
       "      <th></th>\n",
       "      <th>Timestamp</th>\n",
       "      <th>Source IP Address</th>\n",
       "      <th>Destination IP Address</th>\n",
       "      <th>Source Port</th>\n",
       "      <th>Destination Port</th>\n",
       "      <th>Protocol</th>\n",
       "      <th>Packet Length</th>\n",
       "      <th>Packet Type</th>\n",
       "      <th>Traffic Type</th>\n",
       "      <th>Payload Data</th>\n",
       "      <th>...</th>\n",
       "      <th>Geo-location Data</th>\n",
       "      <th>Proxy Information</th>\n",
       "      <th>Firewall Logs</th>\n",
       "      <th>IDS/IPS Alerts</th>\n",
       "      <th>Log Source</th>\n",
       "      <th>Year</th>\n",
       "      <th>Month</th>\n",
       "      <th>Date</th>\n",
       "      <th>Hour</th>\n",
       "      <th>Day</th>\n",
       "    </tr>\n",
       "  </thead>\n",
       "  <tbody>\n",
       "    <tr>\n",
       "      <th>0</th>\n",
       "      <td>2023-05-30 06:33:58</td>\n",
       "      <td>103.216.15.12</td>\n",
       "      <td>84.9.164.252</td>\n",
       "      <td>31225</td>\n",
       "      <td>17616</td>\n",
       "      <td>ICMP</td>\n",
       "      <td>503</td>\n",
       "      <td>Data</td>\n",
       "      <td>HTTP</td>\n",
       "      <td>Qui natus odio asperiores nam. Optio nobis ius...</td>\n",
       "      <td>...</td>\n",
       "      <td>Jamshedpur, Sikkim</td>\n",
       "      <td>150.9.97.135</td>\n",
       "      <td>Log Data</td>\n",
       "      <td>NaN</td>\n",
       "      <td>Server</td>\n",
       "      <td>2023</td>\n",
       "      <td>May</td>\n",
       "      <td>30</td>\n",
       "      <td>6</td>\n",
       "      <td>Tuesday</td>\n",
       "    </tr>\n",
       "    <tr>\n",
       "      <th>1</th>\n",
       "      <td>2020-08-26 07:08:30</td>\n",
       "      <td>78.199.217.198</td>\n",
       "      <td>66.191.137.154</td>\n",
       "      <td>17245</td>\n",
       "      <td>48166</td>\n",
       "      <td>ICMP</td>\n",
       "      <td>1174</td>\n",
       "      <td>Data</td>\n",
       "      <td>HTTP</td>\n",
       "      <td>Aperiam quos modi officiis veritatis rem. Omni...</td>\n",
       "      <td>...</td>\n",
       "      <td>Bilaspur, Nagaland</td>\n",
       "      <td>No Proxy</td>\n",
       "      <td>Log Data</td>\n",
       "      <td>NaN</td>\n",
       "      <td>Firewall</td>\n",
       "      <td>2020</td>\n",
       "      <td>August</td>\n",
       "      <td>26</td>\n",
       "      <td>7</td>\n",
       "      <td>Wednesday</td>\n",
       "    </tr>\n",
       "    <tr>\n",
       "      <th>2</th>\n",
       "      <td>2022-11-13 08:23:25</td>\n",
       "      <td>63.79.210.48</td>\n",
       "      <td>198.219.82.17</td>\n",
       "      <td>16811</td>\n",
       "      <td>53600</td>\n",
       "      <td>UDP</td>\n",
       "      <td>306</td>\n",
       "      <td>Control</td>\n",
       "      <td>HTTP</td>\n",
       "      <td>Perferendis sapiente vitae soluta. Hic delectu...</td>\n",
       "      <td>...</td>\n",
       "      <td>Bokaro, Rajasthan</td>\n",
       "      <td>114.133.48.179</td>\n",
       "      <td>Log Data</td>\n",
       "      <td>Alert Data</td>\n",
       "      <td>Firewall</td>\n",
       "      <td>2022</td>\n",
       "      <td>November</td>\n",
       "      <td>13</td>\n",
       "      <td>8</td>\n",
       "      <td>Sunday</td>\n",
       "    </tr>\n",
       "    <tr>\n",
       "      <th>3</th>\n",
       "      <td>2023-07-02 10:38:46</td>\n",
       "      <td>163.42.196.10</td>\n",
       "      <td>101.228.192.255</td>\n",
       "      <td>20018</td>\n",
       "      <td>32534</td>\n",
       "      <td>UDP</td>\n",
       "      <td>385</td>\n",
       "      <td>Data</td>\n",
       "      <td>HTTP</td>\n",
       "      <td>Totam maxime beatae expedita explicabo porro l...</td>\n",
       "      <td>...</td>\n",
       "      <td>Jaunpur, Rajasthan</td>\n",
       "      <td>No Proxy</td>\n",
       "      <td>NaN</td>\n",
       "      <td>Alert Data</td>\n",
       "      <td>Firewall</td>\n",
       "      <td>2023</td>\n",
       "      <td>July</td>\n",
       "      <td>2</td>\n",
       "      <td>10</td>\n",
       "      <td>Sunday</td>\n",
       "    </tr>\n",
       "    <tr>\n",
       "      <th>4</th>\n",
       "      <td>2023-07-16 13:11:07</td>\n",
       "      <td>71.166.185.76</td>\n",
       "      <td>189.243.174.238</td>\n",
       "      <td>6131</td>\n",
       "      <td>26646</td>\n",
       "      <td>TCP</td>\n",
       "      <td>1462</td>\n",
       "      <td>Data</td>\n",
       "      <td>DNS</td>\n",
       "      <td>Odit nesciunt dolorem nisi iste iusto. Animi v...</td>\n",
       "      <td>...</td>\n",
       "      <td>Anantapur, Tripura</td>\n",
       "      <td>149.6.110.119</td>\n",
       "      <td>NaN</td>\n",
       "      <td>Alert Data</td>\n",
       "      <td>Firewall</td>\n",
       "      <td>2023</td>\n",
       "      <td>July</td>\n",
       "      <td>16</td>\n",
       "      <td>13</td>\n",
       "      <td>Sunday</td>\n",
       "    </tr>\n",
       "  </tbody>\n",
       "</table>\n",
       "<p>5 rows × 30 columns</p>\n",
       "</div>"
      ],
      "text/plain": [
       "             Timestamp Source IP Address Destination IP Address  Source Port  \\\n",
       "0  2023-05-30 06:33:58     103.216.15.12           84.9.164.252        31225   \n",
       "1  2020-08-26 07:08:30    78.199.217.198         66.191.137.154        17245   \n",
       "2  2022-11-13 08:23:25      63.79.210.48          198.219.82.17        16811   \n",
       "3  2023-07-02 10:38:46     163.42.196.10        101.228.192.255        20018   \n",
       "4  2023-07-16 13:11:07     71.166.185.76        189.243.174.238         6131   \n",
       "\n",
       "   Destination Port Protocol  Packet Length Packet Type Traffic Type  \\\n",
       "0             17616     ICMP            503        Data         HTTP   \n",
       "1             48166     ICMP           1174        Data         HTTP   \n",
       "2             53600      UDP            306     Control         HTTP   \n",
       "3             32534      UDP            385        Data         HTTP   \n",
       "4             26646      TCP           1462        Data          DNS   \n",
       "\n",
       "                                        Payload Data  ...   Geo-location Data  \\\n",
       "0  Qui natus odio asperiores nam. Optio nobis ius...  ...  Jamshedpur, Sikkim   \n",
       "1  Aperiam quos modi officiis veritatis rem. Omni...  ...  Bilaspur, Nagaland   \n",
       "2  Perferendis sapiente vitae soluta. Hic delectu...  ...   Bokaro, Rajasthan   \n",
       "3  Totam maxime beatae expedita explicabo porro l...  ...  Jaunpur, Rajasthan   \n",
       "4  Odit nesciunt dolorem nisi iste iusto. Animi v...  ...  Anantapur, Tripura   \n",
       "\n",
       "   Proxy Information Firewall Logs IDS/IPS Alerts Log Source  Year     Month  \\\n",
       "0       150.9.97.135      Log Data            NaN     Server  2023       May   \n",
       "1           No Proxy      Log Data            NaN   Firewall  2020    August   \n",
       "2     114.133.48.179      Log Data     Alert Data   Firewall  2022  November   \n",
       "3           No Proxy           NaN     Alert Data   Firewall  2023      July   \n",
       "4      149.6.110.119           NaN     Alert Data   Firewall  2023      July   \n",
       "\n",
       "  Date Hour        Day  \n",
       "0   30    6    Tuesday  \n",
       "1   26    7  Wednesday  \n",
       "2   13    8     Sunday  \n",
       "3    2   10     Sunday  \n",
       "4   16   13     Sunday  \n",
       "\n",
       "[5 rows x 30 columns]"
      ]
     },
     "execution_count": 3,
     "metadata": {},
     "output_type": "execute_result"
    }
   ],
   "source": [
    "#show dataframes\n",
    "import pandas as pd\n",
    "df = pd.read_csv(csvfile)\n",
    "df.head()\n"
   ]
  },
  {
   "cell_type": "code",
   "execution_count": 4,
   "metadata": {},
   "outputs": [
    {
     "data": {
      "text/plain": [
       "(40000, 30)"
      ]
     },
     "execution_count": 4,
     "metadata": {},
     "output_type": "execute_result"
    }
   ],
   "source": [
    "#checking the shape of the data\n",
    "df.shape\n"
   ]
  },
  {
   "cell_type": "code",
   "execution_count": 5,
   "metadata": {},
   "outputs": [
    {
     "data": {
      "text/plain": [
       "Index(['Timestamp', 'Source IP Address', 'Destination IP Address',\n",
       "       'Source Port', 'Destination Port', 'Protocol', 'Packet Length',\n",
       "       'Packet Type', 'Traffic Type', 'Payload Data', 'Malware Indicators',\n",
       "       'Anomaly Scores', 'Alerts/Warnings', 'Attack Type', 'Attack Signature',\n",
       "       'Action Taken', 'Severity Level', 'User Information',\n",
       "       'Device Information', 'Network Segment', 'Geo-location Data',\n",
       "       'Proxy Information', 'Firewall Logs', 'IDS/IPS Alerts', 'Log Source',\n",
       "       'Year', 'Month', 'Date', 'Hour', 'Day'],\n",
       "      dtype='object')"
      ]
     },
     "execution_count": 5,
     "metadata": {},
     "output_type": "execute_result"
    }
   ],
   "source": [
    "#checking the columns\n",
    "df.columns\n"
   ]
  },
  {
   "cell_type": "code",
   "execution_count": null,
   "metadata": {},
   "outputs": [],
   "source": [
    "#ddocs = df['Description']\n",
    "ddocs.head()\n"
   ]
  }
 ],
 "metadata": {
  "kernelspec": {
   "display_name": "venv",
   "language": "python",
   "name": "python3"
  },
  "language_info": {
   "codemirror_mode": {
    "name": "ipython",
    "version": 3
   },
   "file_extension": ".py",
   "mimetype": "text/x-python",
   "name": "python",
   "nbconvert_exporter": "python",
   "pygments_lexer": "ipython3",
   "version": "3.10.11"
  }
 },
 "nbformat": 4,
 "nbformat_minor": 2
}
